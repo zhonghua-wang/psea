{
 "cells": [
  {
   "cell_type": "code",
   "execution_count": 4,
   "metadata": {
    "pycharm": {
     "name": "#%%\n"
    }
   },
   "outputs": [],
   "source": [
    "from psea.PSEA import PSEA\n",
    "psea = PSEA()"
   ]
  },
  {
   "cell_type": "markdown",
   "source": [
    "### HPO version"
   ],
   "metadata": {
    "collapsed": false,
    "pycharm": {
     "name": "#%% md\n"
    }
   }
  },
  {
   "cell_type": "code",
   "execution_count": 5,
   "outputs": [
    {
     "data": {
      "text/plain": "'2022-06-15'"
     },
     "execution_count": 5,
     "metadata": {},
     "output_type": "execute_result"
    }
   ],
   "source": [
    "psea.hpo.version"
   ],
   "metadata": {
    "collapsed": false,
    "pycharm": {
     "name": "#%%\n"
    }
   }
  },
  {
   "cell_type": "markdown",
   "metadata": {
    "pycharm": {
     "name": "#%% md\n"
    }
   },
   "source": [
    "### prioritized Gene list(top 10) for *Polycystic kidney dysplasia*, `HP:0000113`"
   ]
  },
  {
   "cell_type": "code",
   "execution_count": 2,
   "metadata": {
    "pycharm": {
     "name": "#%%\n"
    }
   },
   "outputs": [
    {
     "data": {
      "text/plain": "                rs  size     zscore  rank\ngene_id                                  \n23005     6.082249    13  17.493828     1\n27031    46.417647   421  14.678967     2\n203286   10.617228    42  14.554360     3\n8204      5.955489    17  14.431790     4\n8195     41.006293   430  12.682595     5\n284086   15.014401    91  12.554936     6\n91147    82.473646  1286  12.475337     7\n5076     27.665454   244  12.305064     8\n5314     35.706940   365  12.250303     9\n5589     15.278610    98  12.173014    10",
      "text/html": "<div>\n<style scoped>\n    .dataframe tbody tr th:only-of-type {\n        vertical-align: middle;\n    }\n\n    .dataframe tbody tr th {\n        vertical-align: top;\n    }\n\n    .dataframe thead th {\n        text-align: right;\n    }\n</style>\n<table border=\"1\" class=\"dataframe\">\n  <thead>\n    <tr style=\"text-align: right;\">\n      <th></th>\n      <th>rs</th>\n      <th>size</th>\n      <th>zscore</th>\n      <th>rank</th>\n    </tr>\n    <tr>\n      <th>gene_id</th>\n      <th></th>\n      <th></th>\n      <th></th>\n      <th></th>\n    </tr>\n  </thead>\n  <tbody>\n    <tr>\n      <th>23005</th>\n      <td>6.082249</td>\n      <td>13</td>\n      <td>17.493828</td>\n      <td>1</td>\n    </tr>\n    <tr>\n      <th>27031</th>\n      <td>46.417647</td>\n      <td>421</td>\n      <td>14.678967</td>\n      <td>2</td>\n    </tr>\n    <tr>\n      <th>203286</th>\n      <td>10.617228</td>\n      <td>42</td>\n      <td>14.554360</td>\n      <td>3</td>\n    </tr>\n    <tr>\n      <th>8204</th>\n      <td>5.955489</td>\n      <td>17</td>\n      <td>14.431790</td>\n      <td>4</td>\n    </tr>\n    <tr>\n      <th>8195</th>\n      <td>41.006293</td>\n      <td>430</td>\n      <td>12.682595</td>\n      <td>5</td>\n    </tr>\n    <tr>\n      <th>284086</th>\n      <td>15.014401</td>\n      <td>91</td>\n      <td>12.554936</td>\n      <td>6</td>\n    </tr>\n    <tr>\n      <th>91147</th>\n      <td>82.473646</td>\n      <td>1286</td>\n      <td>12.475337</td>\n      <td>7</td>\n    </tr>\n    <tr>\n      <th>5076</th>\n      <td>27.665454</td>\n      <td>244</td>\n      <td>12.305064</td>\n      <td>8</td>\n    </tr>\n    <tr>\n      <th>5314</th>\n      <td>35.706940</td>\n      <td>365</td>\n      <td>12.250303</td>\n      <td>9</td>\n    </tr>\n    <tr>\n      <th>5589</th>\n      <td>15.278610</td>\n      <td>98</td>\n      <td>12.173014</td>\n      <td>10</td>\n    </tr>\n  </tbody>\n</table>\n</div>"
     },
     "execution_count": 2,
     "metadata": {},
     "output_type": "execute_result"
    }
   ],
   "source": [
    "pred_df = psea.predict_pkl(['HP:0000113'])\n",
    "pred_df.head(10)"
   ]
  },
  {
   "cell_type": "markdown",
   "metadata": {
    "pycharm": {
     "name": "#%% md\n"
    }
   },
   "source": [
    "### prioritized Gene list(top 10) for HPO `HP:0003100`, `HP:0006504`, `HP:0002107`, `HP:0001679`, `HP:0012019` with additional data that how each specified HPO term contributes to final score."
   ]
  },
  {
   "cell_type": "code",
   "execution_count": 3,
   "metadata": {
    "pycharm": {
     "name": "#%%\n"
    }
   },
   "outputs": [
    {
     "data": {
      "text/plain": "         HP:0001679  HP:0002107  HP:0012019  HP:0003100  size     zscore  \\\ngene_id                                                                    \n59        23.614111    2.559120    1.102076    0.900128   307  28.175436   \n4629      22.402639    2.076790    0.702694    0.560233   501  25.742355   \n5592      20.665780    2.840019    0.624900    0.575761   174  24.706461   \n4091      20.101974    1.325100    1.325100    1.325100    90  24.077274   \n4015      18.393542    2.908171    1.015302    0.973313   224  23.290328   \n8076      17.336583    2.902117    0.987901    1.098277   220  22.324877   \n4087      17.358008    2.699136    0.977023    1.165578   376  22.199745   \n2200       9.850071    2.811171    5.544589    2.403082  1837  20.608913   \n2301      15.060925    2.285191    2.529658    0.487099   252  20.362873   \n4088      15.020177    2.819016    1.123132    0.839779   617  19.802104   \n\n        gene_name  rank  \ngene_id                  \n59          ACTA2     1  \n4629        MYH11     2  \n5592        PRKG1     3  \n4091        SMAD6     4  \n4015          LOX     5  \n8076        MFAP5     6  \n4087        SMAD2     7  \n2200         FBN1     8  \n2301        FOXE3     9  \n4088        SMAD3    10  ",
      "text/html": "<div>\n<style scoped>\n    .dataframe tbody tr th:only-of-type {\n        vertical-align: middle;\n    }\n\n    .dataframe tbody tr th {\n        vertical-align: top;\n    }\n\n    .dataframe thead th {\n        text-align: right;\n    }\n</style>\n<table border=\"1\" class=\"dataframe\">\n  <thead>\n    <tr style=\"text-align: right;\">\n      <th></th>\n      <th>HP:0001679</th>\n      <th>HP:0002107</th>\n      <th>HP:0012019</th>\n      <th>HP:0003100</th>\n      <th>size</th>\n      <th>zscore</th>\n      <th>gene_name</th>\n      <th>rank</th>\n    </tr>\n    <tr>\n      <th>gene_id</th>\n      <th></th>\n      <th></th>\n      <th></th>\n      <th></th>\n      <th></th>\n      <th></th>\n      <th></th>\n      <th></th>\n    </tr>\n  </thead>\n  <tbody>\n    <tr>\n      <th>59</th>\n      <td>23.614111</td>\n      <td>2.559120</td>\n      <td>1.102076</td>\n      <td>0.900128</td>\n      <td>307</td>\n      <td>28.175436</td>\n      <td>ACTA2</td>\n      <td>1</td>\n    </tr>\n    <tr>\n      <th>4629</th>\n      <td>22.402639</td>\n      <td>2.076790</td>\n      <td>0.702694</td>\n      <td>0.560233</td>\n      <td>501</td>\n      <td>25.742355</td>\n      <td>MYH11</td>\n      <td>2</td>\n    </tr>\n    <tr>\n      <th>5592</th>\n      <td>20.665780</td>\n      <td>2.840019</td>\n      <td>0.624900</td>\n      <td>0.575761</td>\n      <td>174</td>\n      <td>24.706461</td>\n      <td>PRKG1</td>\n      <td>3</td>\n    </tr>\n    <tr>\n      <th>4091</th>\n      <td>20.101974</td>\n      <td>1.325100</td>\n      <td>1.325100</td>\n      <td>1.325100</td>\n      <td>90</td>\n      <td>24.077274</td>\n      <td>SMAD6</td>\n      <td>4</td>\n    </tr>\n    <tr>\n      <th>4015</th>\n      <td>18.393542</td>\n      <td>2.908171</td>\n      <td>1.015302</td>\n      <td>0.973313</td>\n      <td>224</td>\n      <td>23.290328</td>\n      <td>LOX</td>\n      <td>5</td>\n    </tr>\n    <tr>\n      <th>8076</th>\n      <td>17.336583</td>\n      <td>2.902117</td>\n      <td>0.987901</td>\n      <td>1.098277</td>\n      <td>220</td>\n      <td>22.324877</td>\n      <td>MFAP5</td>\n      <td>6</td>\n    </tr>\n    <tr>\n      <th>4087</th>\n      <td>17.358008</td>\n      <td>2.699136</td>\n      <td>0.977023</td>\n      <td>1.165578</td>\n      <td>376</td>\n      <td>22.199745</td>\n      <td>SMAD2</td>\n      <td>7</td>\n    </tr>\n    <tr>\n      <th>2200</th>\n      <td>9.850071</td>\n      <td>2.811171</td>\n      <td>5.544589</td>\n      <td>2.403082</td>\n      <td>1837</td>\n      <td>20.608913</td>\n      <td>FBN1</td>\n      <td>8</td>\n    </tr>\n    <tr>\n      <th>2301</th>\n      <td>15.060925</td>\n      <td>2.285191</td>\n      <td>2.529658</td>\n      <td>0.487099</td>\n      <td>252</td>\n      <td>20.362873</td>\n      <td>FOXE3</td>\n      <td>9</td>\n    </tr>\n    <tr>\n      <th>4088</th>\n      <td>15.020177</td>\n      <td>2.819016</td>\n      <td>1.123132</td>\n      <td>0.839779</td>\n      <td>617</td>\n      <td>19.802104</td>\n      <td>SMAD3</td>\n      <td>10</td>\n    </tr>\n  </tbody>\n</table>\n</div>"
     },
     "execution_count": 3,
     "metadata": {},
     "output_type": "execute_result"
    }
   ],
   "source": [
    "pred_df2 = psea.predict_pkl_verbose(['HP:0003100', 'HP:0006504', 'HP:0002107', 'HP:0001679', 'HP:0012019'])\n",
    "pred_df2.head(10)"
   ]
  },
  {
   "cell_type": "markdown",
   "metadata": {
    "pycharm": {
     "name": "#%% md\n"
    }
   },
   "source": [
    "### columns\n",
    "- gene_id: Gene entriz ID\n",
    "- rs: RawScore\n",
    "- size: HPO set size (number of HPOs associated with Gene) x (number of the specified HPOs)\n",
    "- zscore: normalized score\n",
    "- rank: Rank number"
   ]
  }
 ],
 "metadata": {
  "interpreter": {
   "hash": "98422f465b43431c22c5633f40989d8baf0a111871395bb22fb396b05c035e56"
  },
  "kernelspec": {
   "display_name": "Python 3.7.7 64-bit ('base': conda)",
   "language": "python",
   "name": "python3"
  },
  "language_info": {
   "codemirror_mode": {
    "name": "ipython",
    "version": 3
   },
   "file_extension": ".py",
   "mimetype": "text/x-python",
   "name": "python",
   "nbconvert_exporter": "python",
   "pygments_lexer": "ipython3",
   "version": "3.8.5"
  },
  "orig_nbformat": 2
 },
 "nbformat": 4,
 "nbformat_minor": 2
}